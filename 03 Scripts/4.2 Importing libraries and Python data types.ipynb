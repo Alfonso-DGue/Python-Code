{
 "cells": [
  {
   "cell_type": "markdown",
   "id": "8dd7b48e-5d30-4283-945b-629d4ef29337",
   "metadata": {},
   "source": [
    "# 01.Importing libraries"
   ]
  },
  {
   "cell_type": "code",
   "execution_count": 1,
   "id": "72889def-c243-4f5a-9f9d-14cdfcdcfeea",
   "metadata": {},
   "outputs": [],
   "source": [
    "# Import libraries\n",
    "import pandas as pd\n",
    "import numpy as np\n",
    "import os"
   ]
  },
  {
   "cell_type": "markdown",
   "id": "87ab695d-45b2-46f1-a54e-083e5ac26ffe",
   "metadata": {},
   "source": [
    "# Python data types"
   ]
  },
  {
   "cell_type": "code",
   "execution_count": 35,
   "id": "829b8eb4-14c5-4483-aa7c-9a13d3679781",
   "metadata": {},
   "outputs": [
    {
     "data": {
      "text/plain": [
       "100"
      ]
     },
     "execution_count": 35,
     "metadata": {},
     "output_type": "execute_result"
    }
   ],
   "source": [
    "50+50"
   ]
  },
  {
   "cell_type": "code",
   "execution_count": 37,
   "id": "5eb30e4e-0882-4556-a3c4-79e9b4479f2d",
   "metadata": {},
   "outputs": [
    {
     "data": {
      "text/plain": [
       "100"
      ]
     },
     "execution_count": 37,
     "metadata": {},
     "output_type": "execute_result"
    }
   ],
   "source": [
    "110-10"
   ]
  },
  {
   "cell_type": "code",
   "execution_count": 39,
   "id": "663f522f-5fbf-4263-8fa9-b102861192af",
   "metadata": {},
   "outputs": [
    {
     "data": {
      "text/plain": [
       "100"
      ]
     },
     "execution_count": 39,
     "metadata": {},
     "output_type": "execute_result"
    }
   ],
   "source": [
    "30+70"
   ]
  },
  {
   "cell_type": "code",
   "execution_count": 43,
   "id": "73d00d96-9209-4b55-83b1-6f24a2481137",
   "metadata": {},
   "outputs": [],
   "source": [
    "x=5+1.5"
   ]
  },
  {
   "cell_type": "code",
   "execution_count": 45,
   "id": "f0446d6b-de0f-45cf-8ab0-c7ebdda5b99c",
   "metadata": {},
   "outputs": [],
   "source": [
    "y=3-0.7"
   ]
  },
  {
   "cell_type": "code",
   "execution_count": 47,
   "id": "b05189d5-e70a-4eec-be9f-ae0990402eff",
   "metadata": {},
   "outputs": [
    {
     "data": {
      "text/plain": [
       "2.8260869565217392"
      ]
     },
     "execution_count": 47,
     "metadata": {},
     "output_type": "execute_result"
    }
   ],
   "source": [
    "x/y"
   ]
  },
  {
   "cell_type": "code",
   "execution_count": 49,
   "id": "f60865c8-8504-4720-a8d2-b0ab4c29c71e",
   "metadata": {},
   "outputs": [],
   "source": [
    "a='python'"
   ]
  },
  {
   "cell_type": "code",
   "execution_count": 51,
   "id": "e1e62063-abeb-431a-ae2b-bef708324cfa",
   "metadata": {},
   "outputs": [],
   "source": [
    "b='programmer'"
   ]
  },
  {
   "cell_type": "code",
   "execution_count": 53,
   "id": "22532fec-8896-4f66-bc56-8f1e822cd195",
   "metadata": {},
   "outputs": [
    {
     "data": {
      "text/plain": [
       "'pythonprogrammer'"
      ]
     },
     "execution_count": 53,
     "metadata": {},
     "output_type": "execute_result"
    }
   ],
   "source": [
    "a+b"
   ]
  },
  {
   "cell_type": "code",
   "execution_count": 55,
   "id": "32868af6-1bb9-4506-8c4b-e94c7029055a",
   "metadata": {},
   "outputs": [],
   "source": [
    "c='I will be '"
   ]
  },
  {
   "cell_type": "code",
   "execution_count": 57,
   "id": "876e50e1-a77a-477a-94ba-c00175b771c7",
   "metadata": {},
   "outputs": [],
   "source": [
    "d='a Python expert'"
   ]
  },
  {
   "cell_type": "code",
   "execution_count": 59,
   "id": "048e3292-afe7-4735-ad6a-0e0eede4f3f0",
   "metadata": {},
   "outputs": [
    {
     "data": {
      "text/plain": [
       "'I will be a Python expert'"
      ]
     },
     "execution_count": 59,
     "metadata": {},
     "output_type": "execute_result"
    }
   ],
   "source": [
    "c+d"
   ]
  },
  {
   "cell_type": "code",
   "execution_count": 61,
   "id": "1fe9112c-ea9c-4a5a-98f0-796f9d821a09",
   "metadata": {},
   "outputs": [],
   "source": [
    "e='Im interesed '"
   ]
  },
  {
   "cell_type": "code",
   "execution_count": 63,
   "id": "1d5cdbfa-fe4d-41e5-994e-b85eb1ff92ca",
   "metadata": {},
   "outputs": [],
   "source": [
    "f='in learning more '"
   ]
  },
  {
   "cell_type": "code",
   "execution_count": 65,
   "id": "a984dcd9-c05d-4920-babe-7cb4e6fbd446",
   "metadata": {},
   "outputs": [],
   "source": [
    "g='about Python'"
   ]
  },
  {
   "cell_type": "code",
   "execution_count": 67,
   "id": "d13ed68f-7db0-4b9c-a324-e6b399ff0c46",
   "metadata": {},
   "outputs": [
    {
     "data": {
      "text/plain": [
       "'Im interesed in learning more about Python'"
      ]
     },
     "execution_count": 67,
     "metadata": {},
     "output_type": "execute_result"
    }
   ],
   "source": [
    "e+f+g"
   ]
  },
  {
   "cell_type": "code",
   "execution_count": 69,
   "id": "b9220bf4-fd14-4e79-92b3-1dae6294e619",
   "metadata": {},
   "outputs": [
    {
     "data": {
      "text/plain": [
       "'pythonpythonpythonpythonpythonpythonpythonpythonpythonpythonpythonpythonpythonpythonpythonpythonpythonpythonpythonpythonpythonpythonpythonpythonpythonpythonpythonpythonpythonpythonpythonpythonpythonpythonpythonpythonpythonpythonpythonpythonpythonpythonpythonpythonpythonpythonpythonpythonpythonpythonpythonpythonpythonpythonpythonpythonpythonpythonpythonpythonpythonpythonpythonpythonpythonpythonpythonpythonpythonpythonpythonpythonpythonpythonpythonpythonpythonpythonpythonpythonpythonpythonpythonpythonpythonpythonpythonpythonpythonpythonpythonpythonpythonpythonpythonpythonpythonpythonpythonpython'"
      ]
     },
     "execution_count": 69,
     "metadata": {},
     "output_type": "execute_result"
    }
   ],
   "source": [
    "a*100"
   ]
  },
  {
   "cell_type": "code",
   "execution_count": null,
   "id": "5e84f387-5869-4448-87f4-4a92dc37b403",
   "metadata": {},
   "outputs": [],
   "source": []
  }
 ],
 "metadata": {
  "kernelspec": {
   "display_name": "Python [conda env:base] *",
   "language": "python",
   "name": "conda-base-py"
  },
  "language_info": {
   "codemirror_mode": {
    "name": "ipython",
    "version": 3
   },
   "file_extension": ".py",
   "mimetype": "text/x-python",
   "name": "python",
   "nbconvert_exporter": "python",
   "pygments_lexer": "ipython3",
   "version": "3.12.7"
  }
 },
 "nbformat": 4,
 "nbformat_minor": 5
}
