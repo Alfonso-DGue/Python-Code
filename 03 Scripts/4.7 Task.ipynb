{
 "cells": [
  {
   "cell_type": "markdown",
   "id": "d64baabf-e2ea-4a30-8460-f6f6eb090d5e",
   "metadata": {},
   "source": [
    "# STEP 1 Creation of the “price_label” and “busiest_day” columns."
   ]
  },
  {
   "cell_type": "markdown",
   "id": "6f49b23f-d9ed-4365-b4e7-7eeacc884510",
   "metadata": {},
   "source": [
    "### Import Libraries and dataframes"
   ]
  },
  {
   "cell_type": "code",
   "execution_count": 3,
   "id": "2f8d9bb3-8aef-4157-8f63-88b87ded9b5f",
   "metadata": {},
   "outputs": [],
   "source": [
    "import pandas as pd\n",
    "import numpy as np\n",
    "import os"
   ]
  },
  {
   "cell_type": "code",
   "execution_count": 5,
   "id": "709e72e9-c692-4aed-a625-2014289db301",
   "metadata": {},
   "outputs": [],
   "source": [
    "ords_prods_merge = pd.read_pickle(r'C:\\Users\\PC\\Documents\\Instacart Basket Analysis\\02 Data\\Prepared Data\\ords_prods_merge_final.pkl')"
   ]
  },
  {
   "cell_type": "markdown",
   "id": "ad1e3c7f-58a9-4997-93ae-a736cc02643a",
   "metadata": {},
   "source": [
    "### Subset creation"
   ]
  },
  {
   "cell_type": "code",
   "execution_count": 7,
   "id": "7a05206f-6805-4eef-bc69-dac91798dcf5",
   "metadata": {},
   "outputs": [],
   "source": [
    "df = ords_prods_merge[:1000000]"
   ]
  },
  {
   "cell_type": "markdown",
   "id": "bc4ff111-6f5d-4871-8ce4-d415dd65bcc0",
   "metadata": {},
   "source": [
    "### If condition"
   ]
  },
  {
   "cell_type": "code",
   "execution_count": 9,
   "id": "c82ae316-775e-40f2-9e83-05be2fd8f242",
   "metadata": {},
   "outputs": [],
   "source": [
    "def price_label(row):\n",
    "\n",
    "  if row['prices'] <= 5:\n",
    "    return 'Low-range product'\n",
    "  elif (row['prices'] > 5) and (row['prices'] <= 15):\n",
    "    return 'Mid-range product'\n",
    "  elif row['prices'] > 15:\n",
    "    return 'High range'\n",
    "  else: return 'Not enough data'"
   ]
  },
  {
   "cell_type": "markdown",
   "id": "3eb22b33-bb47-4c7c-b029-cd7b0e14f119",
   "metadata": {},
   "source": [
    "### Dataframe creation"
   ]
  },
  {
   "cell_type": "code",
   "execution_count": 11,
   "id": "19d9dedf-d92a-4453-9bbe-6b9e639fe5c9",
   "metadata": {},
   "outputs": [
    {
     "name": "stderr",
     "output_type": "stream",
     "text": [
      "C:\\Users\\PC\\AppData\\Local\\Temp\\ipykernel_12624\\2848743372.py:1: SettingWithCopyWarning: \n",
      "A value is trying to be set on a copy of a slice from a DataFrame.\n",
      "Try using .loc[row_indexer,col_indexer] = value instead\n",
      "\n",
      "See the caveats in the documentation: https://pandas.pydata.org/pandas-docs/stable/user_guide/indexing.html#returning-a-view-versus-a-copy\n",
      "  df['price_range'] = df.apply(price_label, axis=1)\n"
     ]
    }
   ],
   "source": [
    "df['price_range'] = df.apply(price_label, axis=1)"
   ]
  },
  {
   "cell_type": "markdown",
   "id": "27f8b22c-b0f2-494f-9098-c0e768b4a10d",
   "metadata": {},
   "source": [
    "### Checking values in new column"
   ]
  },
  {
   "cell_type": "code",
   "execution_count": 13,
   "id": "3b50840a-1689-47b9-8fb5-d539599dcf2f",
   "metadata": {},
   "outputs": [
    {
     "data": {
      "text/plain": [
       "price_range\n",
       "Mid-range product    672525\n",
       "Low-range product    314109\n",
       "High range            12413\n",
       "Not enough data         953\n",
       "Name: count, dtype: int64"
      ]
     },
     "execution_count": 13,
     "metadata": {},
     "output_type": "execute_result"
    }
   ],
   "source": [
    "df['price_range'].value_counts(dropna = False)"
   ]
  },
  {
   "cell_type": "markdown",
   "id": "a78fbec3-dde4-45a7-896b-e8dd2a97a2cf",
   "metadata": {},
   "source": [
    "### Defining max value"
   ]
  },
  {
   "cell_type": "code",
   "execution_count": 15,
   "id": "1bfd297a-94d2-4cc8-8ea8-ad31a20fcb42",
   "metadata": {},
   "outputs": [
    {
     "data": {
      "text/plain": [
       "99999.0"
      ]
     },
     "execution_count": 15,
     "metadata": {},
     "output_type": "execute_result"
    }
   ],
   "source": [
    "df['prices'].max()"
   ]
  },
  {
   "cell_type": "markdown",
   "id": "9a90f897-4ee9-4b4f-9d6b-2c8147c7b357",
   "metadata": {},
   "source": [
    "### Loc Code"
   ]
  },
  {
   "cell_type": "code",
   "execution_count": 23,
   "id": "b5be22fd-91cb-4390-9e4f-b0f8802015a3",
   "metadata": {},
   "outputs": [],
   "source": [
    "df.loc[df['prices'] > 15, 'price_range_loc'] = 'High-range product'"
   ]
  },
  {
   "cell_type": "code",
   "execution_count": 19,
   "id": "99d5bd7c-cb30-4fa7-beb3-6e128ddcabbe",
   "metadata": {},
   "outputs": [],
   "source": [
    "df.loc[(df['prices'] <= 15) & (df['prices'] > 5), 'price_range_loc'] = 'Mid-range product'"
   ]
  },
  {
   "cell_type": "code",
   "execution_count": 21,
   "id": "42f881df-5cbe-4f17-9819-bbaa3c2c1981",
   "metadata": {},
   "outputs": [],
   "source": [
    "df.loc[df['prices'] <= 5, 'price_range_loc'] = 'Low-range product'"
   ]
  },
  {
   "cell_type": "code",
   "execution_count": 25,
   "id": "d2a5a571-7b9e-44e6-9714-dcbdaa906ab5",
   "metadata": {},
   "outputs": [
    {
     "data": {
      "text/plain": [
       "price_range_loc\n",
       "Mid-range product     672525\n",
       "Low-range product     314109\n",
       "High-range product     12413\n",
       "NaN                      953\n",
       "Name: count, dtype: int64"
      ]
     },
     "execution_count": 25,
     "metadata": {},
     "output_type": "execute_result"
    }
   ],
   "source": [
    "df['price_range_loc'].value_counts(dropna = False)"
   ]
  },
  {
   "cell_type": "markdown",
   "id": "34a86073-65c1-4dce-bbc2-937ccc1eb927",
   "metadata": {},
   "source": [
    "### Loc Code on the entire dataframe"
   ]
  },
  {
   "cell_type": "code",
   "execution_count": 27,
   "id": "6b3ea38c-cc30-4652-81b5-3d3fbbada219",
   "metadata": {},
   "outputs": [],
   "source": [
    "ords_prods_merge.loc[ords_prods_merge['prices'] > 15, 'price_range_loc'] = 'High-range product'"
   ]
  },
  {
   "cell_type": "code",
   "execution_count": 29,
   "id": "be47f6e3-5a09-4d14-b8e7-7344809b7c7f",
   "metadata": {},
   "outputs": [],
   "source": [
    "ords_prods_merge.loc[(ords_prods_merge['prices'] <= 15) & (ords_prods_merge['prices'] > 5), 'price_range_loc'] = 'Mid-range product'"
   ]
  },
  {
   "cell_type": "code",
   "execution_count": 31,
   "id": "88918cd9-10b5-4004-8ca6-8701e1802df3",
   "metadata": {},
   "outputs": [],
   "source": [
    "ords_prods_merge.loc[ords_prods_merge['prices'] <= 5, 'price_range_loc'] = 'Low-range product'"
   ]
  },
  {
   "cell_type": "code",
   "execution_count": 33,
   "id": "f5839649-8ffe-4ec3-82f9-96bd834ea21c",
   "metadata": {},
   "outputs": [
    {
     "data": {
      "text/plain": [
       "price_range_loc\n",
       "Mid-range product     21860860\n",
       "Low-range product     10126321\n",
       "High-range product      417678\n",
       "NaN                      30200\n",
       "Name: count, dtype: int64"
      ]
     },
     "execution_count": 33,
     "metadata": {},
     "output_type": "execute_result"
    }
   ],
   "source": [
    "ords_prods_merge['price_range_loc'].value_counts(dropna = False)"
   ]
  },
  {
   "cell_type": "code",
   "execution_count": 35,
   "id": "84cbc730-9042-4c82-8265-f8cbd4dddd2d",
   "metadata": {
    "scrolled": true
   },
   "outputs": [
    {
     "data": {
      "image/png": "[encoded data removed]",
      "text/plain": [
       "<Figure size 640x480 with 1 Axes>"
      ]
     },
     "metadata": {},
     "output_type": "display_data"
    }
   ],
   "source": [
    "Range_Price_bar = ords_prods_merge['price_range_loc'].value_counts().plot.bar()"
   ]
  },
  {
   "cell_type": "markdown",
   "id": "b0b4ba50-7add-48e7-a46c-341df1b3bceb",
   "metadata": {},
   "source": [
    "### Exporting Bar Chart"
   ]
  },
  {
   "cell_type": "code",
   "execution_count": 38,
   "id": "b066dcec-d960-495a-997b-a53e79cbe3fd",
   "metadata": {},
   "outputs": [],
   "source": [
    "Range_Price_bar.figure.savefig(r'C:\\Users\\PC\\Documents\\Instacart Basket Analysis\\04 Analysis\\Visualizations\\Range_Price_bar.png')"
   ]
  },
  {
   "cell_type": "markdown",
   "id": "8969694c-0a04-4eb0-bb83-f5647ea57581",
   "metadata": {},
   "source": [
    "### Days of the week orders"
   ]
  },
  {
   "cell_type": "code",
   "execution_count": 48,
   "id": "91fef4c4-9f61-4c6e-9b82-7624d81dd7e8",
   "metadata": {},
   "outputs": [
    {
     "data": {
      "text/plain": [
       "orders_day_of_week\n",
       "0    6209808\n",
       "1    5665951\n",
       "6    4500391\n",
       "2    4217868\n",
       "5    4209603\n",
       "3    3844175\n",
       "4    3787263\n",
       "Name: count, dtype: int64"
      ]
     },
     "execution_count": 48,
     "metadata": {},
     "output_type": "execute_result"
    }
   ],
   "source": [
    "ords_prods_merge['orders_day_of_week'].value_counts(dropna = False)"
   ]
  },
  {
   "cell_type": "markdown",
   "id": "95d4cbea-d55e-4524-b67b-164f89559d63",
   "metadata": {},
   "source": [
    "### For - Loop"
   ]
  },
  {
   "cell_type": "code",
   "execution_count": 51,
   "id": "3f3212ff-6b4c-440d-81f6-7c58bfd4e7f3",
   "metadata": {},
   "outputs": [],
   "source": [
    "result = []\n",
    "\n",
    "for value in ords_prods_merge[\"orders_day_of_week\"]:\n",
    "  if value == 0:\n",
    "    result.append(\"Busiest day\")\n",
    "  elif value == 4:\n",
    "    result.append(\"Least busy\")\n",
    "  else:\n",
    "    result.append(\"Regularly busy\")"
   ]
  },
  {
   "cell_type": "markdown",
   "id": "59f11acb-718b-4e92-b857-6626ad775af9",
   "metadata": {},
   "source": [
    "### Column Creation"
   ]
  },
  {
   "cell_type": "code",
   "execution_count": 56,
   "id": "1cdce5e7-ddce-4c08-b1a0-3bb9c3e18929",
   "metadata": {},
   "outputs": [],
   "source": [
    "ords_prods_merge['busiest_day'] = result"
   ]
  },
  {
   "cell_type": "code",
   "execution_count": 58,
   "id": "dcd64f66-15cc-4324-93a3-c5fbd0b14dd7",
   "metadata": {},
   "outputs": [
    {
     "data": {
      "text/plain": [
       "busiest_day\n",
       "Regularly busy    22437988\n",
       "Busiest day        6209808\n",
       "Least busy         3787263\n",
       "Name: count, dtype: int64"
      ]
     },
     "execution_count": 58,
     "metadata": {},
     "output_type": "execute_result"
    }
   ],
   "source": [
    "ords_prods_merge['busiest_day'].value_counts(dropna = False)"
   ]
  },
  {
   "cell_type": "markdown",
   "id": "d3294b88-7139-4055-a97f-db7fee229d48",
   "metadata": {},
   "source": [
    "# STEP 2 Creation of \"Busiest days\" and \"Slowest days\" columns "
   ]
  },
  {
   "cell_type": "code",
   "execution_count": 67,
   "id": "2a00604f-faf2-4bff-9e8a-3ea190318fe9",
   "metadata": {},
   "outputs": [],
   "source": [
    "result1 = []\n",
    "\n",
    "for value in ords_prods_merge[\"orders_day_of_week\"]:\n",
    "  if value in [0, 1]:\n",
    "    result1.append(\"Busiest days\")\n",
    "  elif value in [4, 3]:\n",
    "    result1.append(\"Slowest days\")\n",
    "  else:\n",
    "    result1.append(\"Regularly busy\")"
   ]
  },
  {
   "cell_type": "code",
   "execution_count": 69,
   "id": "97e74a92-8199-4621-8793-3b44797af93f",
   "metadata": {},
   "outputs": [],
   "source": [
    "ords_prods_merge['busiest_days'] = result1"
   ]
  },
  {
   "cell_type": "markdown",
   "id": "23fb690c-2e8f-4364-822c-f42a87007a37",
   "metadata": {},
   "source": [
    "# STEP 3 Check the values of this new column for accuracy. Note any observations in markdown format."
   ]
  },
  {
   "cell_type": "code",
   "execution_count": 71,
   "id": "9c86c8d8-7d7a-4ea3-88e9-6f3f0c82fb61",
   "metadata": {},
   "outputs": [
    {
     "data": {
      "text/plain": [
       "busiest_days\n",
       "Regularly busy    12927862\n",
       "Busiest days      11875759\n",
       "Slowest days       7631438\n",
       "Name: count, dtype: int64"
      ]
     },
     "execution_count": 71,
     "metadata": {},
     "output_type": "execute_result"
    }
   ],
   "source": [
    "ords_prods_merge['busiest_days'].value_counts(dropna = False)"
   ]
  },
  {
   "cell_type": "markdown",
   "id": "587a7654-3c3c-4786-bf09-58ceb4c5cc6f",
   "metadata": {},
   "source": [
    "#### Busiest days increased from 6209808 to 11875759.\n",
    "#### Slowest days increased from 3787263 to 7631438.\n",
    "#### Regularly busy decreased from 22437988 to 12927862."
   ]
  },
  {
   "cell_type": "markdown",
   "id": "852ebf53-b01a-4430-85e6-f27e0ce5f464",
   "metadata": {},
   "source": [
    "# STEP 4 When too many users make Instacart orders at the same time, the app freezes. The senior technical officer at Instacart wants you to identify the busiest hours of the day. Rather than by hour, they want periods of time labeled “Most orders,” “Average orders,” and “Fewest orders.” Create a new column containing these labels called “busiest_period_of_day.”"
   ]
  },
  {
   "cell_type": "markdown",
   "id": "110adb52-3508-4568-92ec-6f4140e90f82",
   "metadata": {},
   "source": [
    "#### Checking variables"
   ]
  },
  {
   "cell_type": "code",
   "execution_count": 77,
   "id": "f16868cf-8891-4e04-bd62-06af37a87381",
   "metadata": {},
   "outputs": [
    {
     "data": {
      "text/html": [
       "<div>\n",
       "<style scoped>\n",
       "    .dataframe tbody tr th:only-of-type {\n",
       "        vertical-align: middle;\n",
       "    }\n",
       "\n",
       "    .dataframe tbody tr th {\n",
       "        vertical-align: top;\n",
       "    }\n",
       "\n",
       "    .dataframe thead th {\n",
       "        text-align: right;\n",
       "    }\n",
       "</style>\n",
       "<table border=\"1\" class=\"dataframe\">\n",
       "  <thead>\n",
       "    <tr style=\"text-align: right;\">\n",
       "      <th></th>\n",
       "      <th>order_id</th>\n",
       "      <th>user_id</th>\n",
       "      <th>order_number</th>\n",
       "      <th>orders_day_of_week</th>\n",
       "      <th>Placing_orders_time</th>\n",
       "      <th>days_since_prior_order</th>\n",
       "      <th>product_id</th>\n",
       "      <th>add_to_cart_order</th>\n",
       "      <th>reordered</th>\n",
       "      <th>_merge</th>\n",
       "      <th>product_name</th>\n",
       "      <th>aisle_id</th>\n",
       "      <th>department_id</th>\n",
       "      <th>prices</th>\n",
       "      <th>merge_flag</th>\n",
       "      <th>price_range_loc</th>\n",
       "      <th>busiest_day</th>\n",
       "      <th>busiest_days</th>\n",
       "    </tr>\n",
       "  </thead>\n",
       "  <tbody>\n",
       "    <tr>\n",
       "      <th>0</th>\n",
       "      <td>2539329</td>\n",
       "      <td>1</td>\n",
       "      <td>1</td>\n",
       "      <td>2</td>\n",
       "      <td>8</td>\n",
       "      <td>NaN</td>\n",
       "      <td>196</td>\n",
       "      <td>1</td>\n",
       "      <td>0</td>\n",
       "      <td>both</td>\n",
       "      <td>Soda</td>\n",
       "      <td>77.0</td>\n",
       "      <td>7.0</td>\n",
       "      <td>9.0</td>\n",
       "      <td>both</td>\n",
       "      <td>Mid-range product</td>\n",
       "      <td>Regularly busy</td>\n",
       "      <td>Regularly busy</td>\n",
       "    </tr>\n",
       "    <tr>\n",
       "      <th>1</th>\n",
       "      <td>2539329</td>\n",
       "      <td>1</td>\n",
       "      <td>1</td>\n",
       "      <td>2</td>\n",
       "      <td>8</td>\n",
       "      <td>NaN</td>\n",
       "      <td>14084</td>\n",
       "      <td>2</td>\n",
       "      <td>0</td>\n",
       "      <td>both</td>\n",
       "      <td>Organic Unsweetened Vanilla Almond Milk</td>\n",
       "      <td>91.0</td>\n",
       "      <td>16.0</td>\n",
       "      <td>12.5</td>\n",
       "      <td>both</td>\n",
       "      <td>Mid-range product</td>\n",
       "      <td>Regularly busy</td>\n",
       "      <td>Regularly busy</td>\n",
       "    </tr>\n",
       "    <tr>\n",
       "      <th>2</th>\n",
       "      <td>2539329</td>\n",
       "      <td>1</td>\n",
       "      <td>1</td>\n",
       "      <td>2</td>\n",
       "      <td>8</td>\n",
       "      <td>NaN</td>\n",
       "      <td>12427</td>\n",
       "      <td>3</td>\n",
       "      <td>0</td>\n",
       "      <td>both</td>\n",
       "      <td>Original Beef Jerky</td>\n",
       "      <td>23.0</td>\n",
       "      <td>19.0</td>\n",
       "      <td>4.4</td>\n",
       "      <td>both</td>\n",
       "      <td>Low-range product</td>\n",
       "      <td>Regularly busy</td>\n",
       "      <td>Regularly busy</td>\n",
       "    </tr>\n",
       "    <tr>\n",
       "      <th>3</th>\n",
       "      <td>2539329</td>\n",
       "      <td>1</td>\n",
       "      <td>1</td>\n",
       "      <td>2</td>\n",
       "      <td>8</td>\n",
       "      <td>NaN</td>\n",
       "      <td>26088</td>\n",
       "      <td>4</td>\n",
       "      <td>0</td>\n",
       "      <td>both</td>\n",
       "      <td>Aged White Cheddar Popcorn</td>\n",
       "      <td>23.0</td>\n",
       "      <td>19.0</td>\n",
       "      <td>4.7</td>\n",
       "      <td>both</td>\n",
       "      <td>Low-range product</td>\n",
       "      <td>Regularly busy</td>\n",
       "      <td>Regularly busy</td>\n",
       "    </tr>\n",
       "    <tr>\n",
       "      <th>4</th>\n",
       "      <td>2539329</td>\n",
       "      <td>1</td>\n",
       "      <td>1</td>\n",
       "      <td>2</td>\n",
       "      <td>8</td>\n",
       "      <td>NaN</td>\n",
       "      <td>26405</td>\n",
       "      <td>5</td>\n",
       "      <td>0</td>\n",
       "      <td>both</td>\n",
       "      <td>XL Pick-A-Size Paper Towel Rolls</td>\n",
       "      <td>54.0</td>\n",
       "      <td>17.0</td>\n",
       "      <td>1.0</td>\n",
       "      <td>both</td>\n",
       "      <td>Low-range product</td>\n",
       "      <td>Regularly busy</td>\n",
       "      <td>Regularly busy</td>\n",
       "    </tr>\n",
       "  </tbody>\n",
       "</table>\n",
       "</div>"
      ],
      "text/plain": [
       "   order_id  user_id  order_number  orders_day_of_week  Placing_orders_time  \\\n",
       "0   2539329        1             1                   2                    8   \n",
       "1   2539329        1             1                   2                    8   \n",
       "2   2539329        1             1                   2                    8   \n",
       "3   2539329        1             1                   2                    8   \n",
       "4   2539329        1             1                   2                    8   \n",
       "\n",
       "   days_since_prior_order  product_id  add_to_cart_order  reordered _merge  \\\n",
       "0                     NaN         196                  1          0   both   \n",
       "1                     NaN       14084                  2          0   both   \n",
       "2                     NaN       12427                  3          0   both   \n",
       "3                     NaN       26088                  4          0   both   \n",
       "4                     NaN       26405                  5          0   both   \n",
       "\n",
       "                              product_name  aisle_id  department_id  prices  \\\n",
       "0                                     Soda      77.0            7.0     9.0   \n",
       "1  Organic Unsweetened Vanilla Almond Milk      91.0           16.0    12.5   \n",
       "2                      Original Beef Jerky      23.0           19.0     4.4   \n",
       "3               Aged White Cheddar Popcorn      23.0           19.0     4.7   \n",
       "4         XL Pick-A-Size Paper Towel Rolls      54.0           17.0     1.0   \n",
       "\n",
       "  merge_flag    price_range_loc     busiest_day    busiest_days  \n",
       "0       both  Mid-range product  Regularly busy  Regularly busy  \n",
       "1       both  Mid-range product  Regularly busy  Regularly busy  \n",
       "2       both  Low-range product  Regularly busy  Regularly busy  \n",
       "3       both  Low-range product  Regularly busy  Regularly busy  \n",
       "4       both  Low-range product  Regularly busy  Regularly busy  "
      ]
     },
     "execution_count": 77,
     "metadata": {},
     "output_type": "execute_result"
    }
   ],
   "source": [
    "ords_prods_merge.head()"
   ]
  },
  {
   "cell_type": "markdown",
   "id": "dceb241b-3807-4e85-9f15-585bc731afc0",
   "metadata": {},
   "source": [
    "#### Identifying the busiest hours of the days"
   ]
  },
  {
   "cell_type": "code",
   "execution_count": 79,
   "id": "c00d737e-b1c5-43cb-961d-41ed4fc1b95e",
   "metadata": {},
   "outputs": [
    {
     "data": {
      "text/plain": [
       "Placing_orders_time\n",
       "10    2764476\n",
       "11    2738647\n",
       "14    2691598\n",
       "15    2664583\n",
       "13    2663346\n",
       "12    2620898\n",
       "16    2537506\n",
       "9     2456751\n",
       "17    2089510\n",
       "8     1719991\n",
       "18    1637956\n",
       "19    1259416\n",
       "20     977049\n",
       "7      891951\n",
       "21     796379\n",
       "22     634743\n",
       "23     402621\n",
       "6      290796\n",
       "0      218951\n",
       "1      115787\n",
       "5       88064\n",
       "2       69435\n",
       "4       53284\n",
       "3       51321\n",
       "Name: count, dtype: int64"
      ]
     },
     "execution_count": 79,
     "metadata": {},
     "output_type": "execute_result"
    }
   ],
   "source": [
    "ords_prods_merge['Placing_orders_time'].value_counts(dropna = False)"
   ]
  },
  {
   "cell_type": "markdown",
   "id": "4d80520d-9d5b-40a4-8e35-97d72b4d0347",
   "metadata": {},
   "source": [
    "#### Creation of the new variable"
   ]
  },
  {
   "cell_type": "code",
   "execution_count": 81,
   "id": "483bd211-8b7d-4ad8-92b0-8ef978dc12a7",
   "metadata": {},
   "outputs": [],
   "source": [
    "result2 = []\n",
    "\n",
    "for value in ords_prods_merge[\"Placing_orders_time\"]:\n",
    "  if value in [10, 11, 14, 15, 13, 12, 16, 9]:\n",
    "    result2.append(\"Most orders\")\n",
    "  elif value in [17, 8, 18, 19, 20, 7, 21, 22]:\n",
    "    result2.append(\"Average orders\")\n",
    "  else:\n",
    "    result2.append(\"Fewest orders\")"
   ]
  },
  {
   "cell_type": "markdown",
   "id": "ba1aa9a8-c870-47b2-adec-e89cec1984b0",
   "metadata": {},
   "source": [
    "#### Name assignation to the new variable"
   ]
  },
  {
   "cell_type": "code",
   "execution_count": 83,
   "id": "73b215f9-5081-480d-b1b4-e112146192de",
   "metadata": {},
   "outputs": [],
   "source": [
    "ords_prods_merge['busiest_period_of_day'] = result2"
   ]
  },
  {
   "cell_type": "markdown",
   "id": "5f7581eb-b40f-4c45-98c5-530504671bc3",
   "metadata": {},
   "source": [
    "# STEP 5 Printing frequency"
   ]
  },
  {
   "cell_type": "code",
   "execution_count": 85,
   "id": "925d7e4f-cd51-4cfe-aaff-a510325406e9",
   "metadata": {},
   "outputs": [
    {
     "data": {
      "text/plain": [
       "busiest_period_of_day\n",
       "Most orders       21137805\n",
       "Average orders    10006995\n",
       "Fewest orders      1290259\n",
       "Name: count, dtype: int64"
      ]
     },
     "execution_count": 85,
     "metadata": {},
     "output_type": "execute_result"
    }
   ],
   "source": [
    "ords_prods_merge['busiest_period_of_day'].value_counts(dropna = False)"
   ]
  },
  {
   "cell_type": "markdown",
   "id": "29ddf963-d26b-4775-a416-d237d74314dc",
   "metadata": {},
   "source": [
    "# STEP 7 Export your dataframe as a pickle file (since you added new columns) and store it correctly in your “Prepared Data” folder."
   ]
  },
  {
   "cell_type": "code",
   "execution_count": 96,
   "id": "739b2adf-b295-45ac-9625-2e22e1aa827b",
   "metadata": {},
   "outputs": [],
   "source": [
    "ords_prods_merge.to_pickle(r'C:\\Users\\PC\\Documents\\Instacart Basket Analysis\\02 Data\\Prepared Data\\orders_products_4.7.pkl')"
   ]
  }
 ],
 "metadata": {
  "kernelspec": {
   "display_name": "Python [conda env:base] *",
   "language": "python",
   "name": "conda-base-py"
  },
  "language_info": {
   "codemirror_mode": {
    "name": "ipython",
    "version": 3
   },
   "file_extension": ".py",
   "mimetype": "text/x-python",
   "name": "python",
   "nbconvert_exporter": "python",
   "pygments_lexer": "ipython3",
   "version": "3.12.7"
  }
 },
 "nbformat": 4,
 "nbformat_minor": 5
}
